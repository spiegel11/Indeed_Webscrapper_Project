{
 "cells": [
  {
   "cell_type": "markdown",
   "metadata": {},
   "source": [
    "# Indeed Webscrapper "
   ]
  },
  {
   "cell_type": "code",
   "execution_count": 1,
   "metadata": {},
   "outputs": [],
   "source": [
    "import csv\n",
    "from datetime import datetime\n",
    "import requests\n",
    "from bs4 import BeautifulSoup"
   ]
  },
  {
   "cell_type": "code",
   "execution_count": 2,
   "metadata": {},
   "outputs": [],
   "source": [
    "def get_url(position,location):\n",
    "    \"\"\"Generate url from position and location\"\"\"\n",
    "    template = 'https://www.indeed.com/jobs?q={}&l={}'\n",
    "    position = position.replace(' ', '+')\n",
    "    location = location.replace(' ', '+')\n",
    "    url = template.format(position, location)\n",
    "    return url"
   ]
  },
  {
   "cell_type": "markdown",
   "metadata": {},
   "source": [
    "# get url from html"
   ]
  },
  {
   "cell_type": "code",
   "execution_count": 3,
   "metadata": {},
   "outputs": [
    {
     "name": "stdout",
     "output_type": "stream",
     "text": [
      "https://www.indeed.com/jobs?q=business%20analyst&l=United%20States\n"
     ]
    }
   ],
   "source": [
    "url = get_url('business%20analyst', 'United%20States')\n",
    "print(url)"
   ]
  },
  {
   "cell_type": "code",
   "execution_count": 4,
   "metadata": {},
   "outputs": [],
   "source": [
    "response = requests.get(url)"
   ]
  },
  {
   "cell_type": "code",
   "execution_count": 5,
   "metadata": {},
   "outputs": [],
   "source": [
    "soup = BeautifulSoup(response.text, 'html.parser')"
   ]
  },
  {
   "cell_type": "code",
   "execution_count": 6,
   "metadata": {},
   "outputs": [],
   "source": [
    "cards = soup.find_all('div', class_='slider_container')"
   ]
  },
  {
   "cell_type": "code",
   "execution_count": 7,
   "metadata": {},
   "outputs": [
    {
     "data": {
      "text/plain": [
       "bs4.element.Tag"
      ]
     },
     "execution_count": 7,
     "metadata": {},
     "output_type": "execute_result"
    }
   ],
   "source": [
    "card = cards[0]\n",
    "type(card)\n"
   ]
  },
  {
   "cell_type": "markdown",
   "metadata": {},
   "source": [
    "# Test"
   ]
  },
  {
   "cell_type": "code",
   "execution_count": 8,
   "metadata": {},
   "outputs": [
    {
     "data": {
      "text/plain": [
       "['newBusiness AnalystDatrose3.3Remote$50 - $65 an hourContractEasily applyUrgently hiringHiring multiple candidates\\nAbility to analyze data to draw business-relevant conclusions.\\nThe individual will work closely with the Global Royalties and Copyright department users,…\\nPostedJust posted',\n",
       " 'newBusiness AnalysteTeam Inc.Irwindale, CA+36 locationsContractEasily apply\\nImproves and supports business activities of assigned department through analysis of objectives, goals and customer needs.\\nTrack projects in MS Teams/Planner.\\nPostedPosted 3 days ago·More...View all eTeam Inc. jobs in Irwindale, CA - Irwindale jobsSalary Search: Business Analyst salaries in Irwindale, CASee popular questions & answers about eTeam Inc.',\n",
       " 'Junior Business AnalystTalentheed Inc4.6Remote$60,000 - $90,000 a yearFull-time8 hour shiftEasily applyResponsive employerHiring multiple candidates\\nMedical coverage qualified following 60 days of business.\\nCreating initiatives depending on the business’s requirements and needs.\\nEmployerActive 2 days ago·More...View all Talentheed Inc jobs in Remote - Remote jobsSalary Search: Junior Business Analyst salaries in RemoteSee popular questions & answers about Talentheed Inc',\n",
       " \"newEntry Level Business AnalystAMGTech SolutionsChicago, IL$70,000 - $80,000 a yearFull-time8 hour shiftEasily applyHiring multiple candidates\\nCommunicate with current and prospective clients, generate pitch decks and identify new business opportunities.\\nBachelor's or Master's degree.\\nPostedPosted 6 days ago·More...View all AMGTech Solutions jobs in Chicago, IL - Chicago jobsSalary Search: Entry Level Business Analyst salaries in Chicago, IL\",\n",
       " 'newEntry Level Business AnalystDhatronictechWashington, DC$65,000 - $75,000 a yearFull-time8 hour shiftEasily applyHiring multiple candidates\\nPrepare cost-benefit analyses as well as business impact analyses for the executive management.\\nGather, document and validate business requirements and…\\nPostedPosted 4 days ago·More...View all Dhatronictech jobs in Washington, DC - Washington jobsSalary Search: Entry Level Business Analyst salaries in Washington, DC',\n",
       " 'newBusiness Analysteimagine1.0Indianapolis, IN 46260 (Nora-Far Northside area)+1 locationEstimated $65.1K - $82.5K a yearFull-time\\nCapable of providing gap analysis and needs assessments to uncover business need.\\nBachelor’s degree in information technology, computer science or business…\\nPostedPosted 2 days ago·More...View all eimagine jobs in Indianapolis, IN - Indianapolis jobsSalary Search: Business Analyst salaries in Indianapolis, INSee popular questions & answers about eimagine',\n",
       " 'Business AnalystMindsgroup Infotech LLCRemote$30 - $40 an hourFull-time +18 hour shiftEasily applyHiring multiple candidates\\nO Fresher/ experience relevant technical or business work experience.\\nConsultants should must have bachelor’s degree & must have excellent English communication…\\nEmployerActive 6 days ago·More...View all Mindsgroup Infotech LLC jobs in Remote - Remote jobsSalary Search: Business Analyst salaries in Remote',\n",
       " 'newBusiness AnalystCapio GroupSacramento, CA 95814 (Mansion Flats area)Estimated $87.7K - $111K a yearFull-timeEasily apply\\nThe Business Analyst shall provide business analysis with expertise to support the Design, Development and Implementation (DD&I) and Maintenance and Operations …\\nPostedPosted 5 days ago·More...View all Capio Group jobs in Sacramento, CA - Sacramento jobsSalary Search: Business Analyst salaries in Sacramento, CA',\n",
       " 'newBusiness AnalystTriunity software Inc.+1 locationRemote$35 - $75 an hourFull-time +18 hour shiftEasily applyHiring multiple candidates\\nUnderstanding of software development life cycles (agile, waterfall, iterative).\\nAct as a liaison between all business departments and the Information Services…\\nPostedPosted 3 days ago·More...View all Triunity software Inc. jobs in Remote - Remote jobsSalary Search: Business Analyst salaries in Remote',\n",
       " 'newBusiness AnalystLincoln Financial3.6Dover, NH+1 location$63,100 - $137,900 a year\\nYou will validate that the solution meets the business need by developing acceptance criteria and evaluation plans, coordinating testing with business users.\\nPostedPosted 7 days ago·More...View all Lincoln Financial jobs in Dover, NH - Dover jobsSalary Search: Business Analyst salaries in Dover, NHSee popular questions & answers about Lincoln Financial',\n",
       " 'newBusiness Systems AnalystAdvanced Micro Devices, Inc.3.8San Jose, CA 95148 (Evergreen area)+1 locationEasily apply\\nAccomplished in developing and delivering business systems.\\nAble to mine and analyze business data through SQL queries.\\nPostedPosted 2 days ago·More...View all Advanced Micro Devices, Inc. jobs in San Jose, CA - San Jose jobsSalary Search: Business Systems Analyst salaries in San Jose, CASee popular questions & answers about Advanced Micro Devices, Inc.',\n",
       " 'Business AnalystVastek Inc.California City, CA+1 locationFrom $30 an hourFull-time +18 hour shiftEasily applyUrgently hiringHiring multiple candidates\\nDocument business process and/or program changes.\\nGather business and technical requirements for application modifications and enhancements.\\nEmployerActive 6 days ago·More...View all Vastek Inc. jobs in California City, CA - California City jobsSalary Search: Business Analyst salaries in California City, CA',\n",
       " 'newBusiness AnalystSamiti TechnologyNew York, NY 10019 (Midtown area)Up to $100 an hourFull-time +18 hour shift +1Easily apply\\nWork closely with business stakeholders to understand current operating model and identify requirements for project deliverables.\\nPostedJust posted·More...View all Samiti Technology jobs in New York, NY - New York jobsSalary Search: Business Analyst salaries in New York, NY',\n",
       " 'newJunior Business AnalystAIG3.7Houston, TX+4 locationsFull-time\\nAbility to build relationships with business partners and achieve assigned goals.\\nWe provide solutions for a brighter future through our client centered service…\\nPostedPosted 4 days ago·More...View all AIG jobs in Houston, TX - Houston jobsSalary Search: Junior Business Analyst salaries in Houston, TXSee popular questions & answers about AIG',\n",
       " 'newBusiness Intelligence AnalystMSM Technology, LLC (MSM Tech)Fort Bragg, NC$90,000 - $110,000 a yearFull-time +1Day shift +1Easily apply\\nDevelop new enterprise business intelligence (BI) service offerings, content creation, and value propositions to support and improve Government business…\\nPostedPosted 2 days ago·More...View all MSM Technology, LLC (MSM Tech) jobs in Fort Bragg, NC - Fort Bragg jobsSalary Search: Business Intelligence Analyst salaries in Fort Bragg, NC']"
      ]
     },
     "execution_count": 8,
     "metadata": {},
     "output_type": "execute_result"
    }
   ],
   "source": [
    "contents = []\n",
    "for i in range(0,15):\n",
    "    contents.append(cards[i].text.strip())\n",
    "    \n",
    "contents  "
   ]
  },
  {
   "cell_type": "code",
   "execution_count": 9,
   "metadata": {},
   "outputs": [
    {
     "data": {
      "text/plain": [
       "'Datrose'"
      ]
     },
     "execution_count": 9,
     "metadata": {},
     "output_type": "execute_result"
    }
   ],
   "source": [
    "company = card.find('span', 'companyName').text.strip()\n",
    "company\n"
   ]
  },
  {
   "cell_type": "code",
   "execution_count": 10,
   "metadata": {},
   "outputs": [
    {
     "data": {
      "text/plain": [
       "'newBusiness Analyst'"
      ]
     },
     "execution_count": 10,
     "metadata": {},
     "output_type": "execute_result"
    }
   ],
   "source": [
    "job_title = card.find('h2', 'jobTitle').text.strip()\n",
    "job_title"
   ]
  },
  {
   "cell_type": "code",
   "execution_count": 11,
   "metadata": {},
   "outputs": [
    {
     "data": {
      "text/plain": [
       "'Remote'"
      ]
     },
     "execution_count": 11,
     "metadata": {},
     "output_type": "execute_result"
    }
   ],
   "source": [
    "job_location = card.find('div', 'companyLocation').text.strip()\n",
    "job_location"
   ]
  },
  {
   "cell_type": "code",
   "execution_count": 12,
   "metadata": {},
   "outputs": [],
   "source": [
    "post_date = card.find('span', 'date').text.strip()\n",
    "post_date\n",
    "today = datetime.today().strftime('%Y-%m-%d')"
   ]
  },
  {
   "cell_type": "code",
   "execution_count": 13,
   "metadata": {},
   "outputs": [
    {
     "data": {
      "text/plain": [
       "'Ability to analyze data to draw business-relevant conclusions. The individual will work closely with the Global Royalties and Copyright department users,…'"
      ]
     },
     "execution_count": 13,
     "metadata": {},
     "output_type": "execute_result"
    }
   ],
   "source": [
    "summary = card.find('div', 'job-snippet').text.strip().replace('\\n', ' ')\n",
    "summary"
   ]
  },
  {
   "cell_type": "code",
   "execution_count": 14,
   "metadata": {},
   "outputs": [
    {
     "data": {
      "text/plain": [
       "'$50 - $65 an hour'"
      ]
     },
     "execution_count": 14,
     "metadata": {},
     "output_type": "execute_result"
    }
   ],
   "source": [
    "if card.find('div',{'class':'heading6 tapItem-gutter metadataContainer noJEMChips salaryOnly'}):\n",
    "    salary = card.find('div',{'class':'metadata salary-snippet-container'}).get_text()\n",
    "elif card.find('class', 'metadata estimated-salary-container'):\n",
    "    salary = card.find('class', 'metadata estimated-salary-container')\n",
    "else:\n",
    "    'Not Available'\n",
    "salary\n",
    "    \n",
    "\n",
    "\n",
    "# salary_tag = card.find('class', 'metadata salary-snippet-container')\n",
    "# if salary_tag:\n",
    "#     salary = salary_tag.text.strip()\n",
    "# else:\n",
    "#     salary = '' \n",
    "# salary_tag"
   ]
  },
  {
   "cell_type": "code",
   "execution_count": 21,
   "metadata": {},
   "outputs": [
    {
     "ename": "AttributeError",
     "evalue": "'NoneType' object has no attribute 'get'",
     "output_type": "error",
     "traceback": [
      "\u001b[1;31m---------------------------------------------------------------------------\u001b[0m",
      "\u001b[1;31mAttributeError\u001b[0m                            Traceback (most recent call last)",
      "\u001b[1;32m<ipython-input-21-9c54f96ebd7d>\u001b[0m in \u001b[0;36m<module>\u001b[1;34m\u001b[0m\n\u001b[1;32m----> 1\u001b[1;33m \u001b[0mjob_url\u001b[0m \u001b[1;33m=\u001b[0m \u001b[1;34m'https://www.indeed.com'\u001b[0m \u001b[1;33m+\u001b[0m \u001b[0mcard\u001b[0m\u001b[1;33m.\u001b[0m\u001b[0mfind_parent\u001b[0m\u001b[1;33m(\u001b[0m\u001b[1;34m'a'\u001b[0m\u001b[1;33m)\u001b[0m\u001b[1;33m.\u001b[0m\u001b[0mget\u001b[0m\u001b[1;33m(\u001b[0m\u001b[1;34m'href'\u001b[0m\u001b[1;33m)\u001b[0m\u001b[1;33m\u001b[0m\u001b[1;33m\u001b[0m\u001b[0m\n\u001b[0m\u001b[0;32m      2\u001b[0m \u001b[0mjob_url\u001b[0m\u001b[1;33m\u001b[0m\u001b[1;33m\u001b[0m\u001b[0m\n",
      "\u001b[1;31mAttributeError\u001b[0m: 'NoneType' object has no attribute 'get'"
     ]
    }
   ],
   "source": [
    "job_url = 'https://www.indeed.com' + card.find_parent('a').get('href')\n",
    "job_url"
   ]
  },
  {
   "cell_type": "code",
   "execution_count": 15,
   "metadata": {},
   "outputs": [
    {
     "data": {
      "text/plain": [
       "('newBusiness Analyst',\n",
       " 'Datrose',\n",
       " 'Remote',\n",
       " 'PostedJust posted',\n",
       " '2022-06-20',\n",
       " 'Ability to analyze data to draw business-relevant conclusions. The individual will work closely with the Global Royalties and Copyright department users,…',\n",
       " '$50 - $65 an hour')"
      ]
     },
     "execution_count": 15,
     "metadata": {},
     "output_type": "execute_result"
    }
   ],
   "source": [
    "record = (job_title, company, job_location, post_date, today, summary, salary)\n",
    "record"
   ]
  },
  {
   "cell_type": "code",
   "execution_count": 16,
   "metadata": {},
   "outputs": [],
   "source": [
    "def get_record(card):\n",
    "    job_title = card.find('h2', 'jobTitle').text.strip()\n",
    "    if 'new' in job_title:\n",
    "        job_title = job_title[3:]\n",
    "    company = card.find('span', 'companyName').text.strip()\n",
    "    job_location = card.find('div', 'companyLocation').text.strip()\n",
    "    post_date = card.find('span', 'date').text.strip()\n",
    "    today = datetime.today().strftime('%Y-%m-%d')\n",
    "    summary = card.find('div', 'job-snippet').text.strip().replace('\\n', ' ')\n",
    "    #job_url = 'https://www.indeed.com' + card.find_parent('a').get('href')\n",
    "    #salary_tag = card.find('span', 'metadata salary-snippet-container')\n",
    "    if card.find('div',{'class':'metadata salary-snippet-container'}):\n",
    "        salary = card.find('div',{'class':'metadata salary-snippet-container'}).get_text()\n",
    "    elif card.find('class', 'metadata estimated-salary-container'):\n",
    "        salary = card.find('class', 'metadata estimated-salary-container')\n",
    "    else:\n",
    "        salary = 'Not Available'\n",
    "    record = (job_title, company, job_location, post_date, today, summary, salary)\n",
    "    return record "
   ]
  },
  {
   "cell_type": "code",
   "execution_count": 17,
   "metadata": {},
   "outputs": [
    {
     "data": {
      "text/plain": [
       "[('Business Analyst',\n",
       "  'Datrose',\n",
       "  'Remote',\n",
       "  'PostedJust posted',\n",
       "  '2022-06-20',\n",
       "  'Ability to analyze data to draw business-relevant conclusions. The individual will work closely with the Global Royalties and Copyright department users,…',\n",
       "  '$50 - $65 an hour'),\n",
       " ('Business Analyst',\n",
       "  'eTeam Inc.',\n",
       "  'Irwindale, CA+36 locations',\n",
       "  'PostedPosted 3 days ago',\n",
       "  '2022-06-20',\n",
       "  'Improves and supports business activities of assigned department through analysis of objectives, goals and customer needs. Track projects in MS Teams/Planner.',\n",
       "  'Not Available'),\n",
       " ('Junior Business Analyst',\n",
       "  'Talentheed Inc',\n",
       "  'Remote',\n",
       "  'EmployerActive 2 days ago',\n",
       "  '2022-06-20',\n",
       "  'Medical coverage qualified following 60 days of business. Creating initiatives depending on the business’s requirements and needs.',\n",
       "  '$60,000 - $90,000 a year'),\n",
       " ('Entry Level Business Analyst',\n",
       "  'AMGTech Solutions',\n",
       "  'Chicago, IL',\n",
       "  'PostedPosted 6 days ago',\n",
       "  '2022-06-20',\n",
       "  \"Communicate with current and prospective clients, generate pitch decks and identify new business opportunities. Bachelor's or Master's degree.\",\n",
       "  '$70,000 - $80,000 a year'),\n",
       " ('Entry Level Business Analyst',\n",
       "  'Dhatronictech',\n",
       "  'Washington, DC',\n",
       "  'PostedPosted 4 days ago',\n",
       "  '2022-06-20',\n",
       "  'Prepare cost-benefit analyses as well as business impact analyses for the executive management. Gather, document and validate business requirements and…',\n",
       "  '$65,000 - $75,000 a year'),\n",
       " ('Business Analyst',\n",
       "  'eimagine',\n",
       "  'Indianapolis, IN 46260 (Nora-Far Northside area)+1 location',\n",
       "  'PostedPosted 2 days ago',\n",
       "  '2022-06-20',\n",
       "  'Capable of providing gap analysis and needs assessments to uncover business need. Bachelor’s degree in information technology, computer science or business…',\n",
       "  'Not Available'),\n",
       " ('Business Analyst',\n",
       "  'Mindsgroup Infotech LLC',\n",
       "  'Remote',\n",
       "  'EmployerActive 6 days ago',\n",
       "  '2022-06-20',\n",
       "  'O Fresher/ experience relevant technical or business work experience. Consultants should must have bachelor’s degree & must have excellent English communication…',\n",
       "  '$30 - $40 an hour'),\n",
       " ('Business Analyst',\n",
       "  'Capio Group',\n",
       "  'Sacramento, CA 95814 (Mansion Flats area)',\n",
       "  'PostedPosted 5 days ago',\n",
       "  '2022-06-20',\n",
       "  'The Business Analyst shall provide business analysis with expertise to support the Design, Development and Implementation (DD&I) and Maintenance and Operations …',\n",
       "  'Not Available'),\n",
       " ('Business Analyst',\n",
       "  'Triunity software Inc.',\n",
       "  '+1 locationRemote',\n",
       "  'PostedPosted 3 days ago',\n",
       "  '2022-06-20',\n",
       "  'Understanding of software development life cycles (agile, waterfall, iterative). Act as a liaison between all business departments and the Information Services…',\n",
       "  '$35 - $75 an hour'),\n",
       " ('Business Analyst',\n",
       "  'Lincoln Financial',\n",
       "  'Dover, NH+1 location',\n",
       "  'PostedPosted 7 days ago',\n",
       "  '2022-06-20',\n",
       "  'You will validate that the solution meets the business need by developing acceptance criteria and evaluation plans, coordinating testing with business users.',\n",
       "  '$63,100 - $137,900 a year'),\n",
       " ('Business Systems Analyst',\n",
       "  'Advanced Micro Devices, Inc.',\n",
       "  'San Jose, CA 95148 (Evergreen area)+1 location',\n",
       "  'PostedPosted 2 days ago',\n",
       "  '2022-06-20',\n",
       "  'Accomplished in developing and delivering business systems. Able to mine and analyze business data through SQL queries.',\n",
       "  'Not Available'),\n",
       " ('Business Analyst',\n",
       "  'Vastek Inc.',\n",
       "  'California City, CA+1 location',\n",
       "  'EmployerActive 6 days ago',\n",
       "  '2022-06-20',\n",
       "  'Document business process and/or program changes. Gather business and technical requirements for application modifications and enhancements.',\n",
       "  'From $30 an hour'),\n",
       " ('Business Analyst',\n",
       "  'Samiti Technology',\n",
       "  'New York, NY 10019 (Midtown area)',\n",
       "  'PostedJust posted',\n",
       "  '2022-06-20',\n",
       "  'Work closely with business stakeholders to understand current operating model and identify requirements for project deliverables.',\n",
       "  'Up to $100 an hour'),\n",
       " ('Junior Business Analyst',\n",
       "  'AIG',\n",
       "  'Houston, TX+4 locations',\n",
       "  'PostedPosted 4 days ago',\n",
       "  '2022-06-20',\n",
       "  'Ability to build relationships with business partners and achieve assigned goals. We provide solutions for a brighter future through our client centered service…',\n",
       "  'Not Available'),\n",
       " ('Business Intelligence Analyst',\n",
       "  'MSM Technology, LLC (MSM Tech)',\n",
       "  'Fort Bragg, NC',\n",
       "  'PostedPosted 2 days ago',\n",
       "  '2022-06-20',\n",
       "  'Develop new enterprise business intelligence (BI) service offerings, content creation, and value propositions to support and improve Government business…',\n",
       "  '$90,000 - $110,000 a year')]"
      ]
     },
     "execution_count": 17,
     "metadata": {},
     "output_type": "execute_result"
    }
   ],
   "source": [
    "records = []\n",
    "\n",
    "for card in cards:\n",
    "    record = get_record(card)\n",
    "    records.append(record)\n",
    "records"
   ]
  },
  {
   "cell_type": "markdown",
   "metadata": {},
   "source": [
    "# Get Next Page"
   ]
  },
  {
   "cell_type": "code",
   "execution_count": 19,
   "metadata": {},
   "outputs": [
    {
     "data": {
      "text/plain": [
       "'https://www.indeed.com/jobs?q=business+analyst&l=United+States&start=10'"
      ]
     },
     "execution_count": 19,
     "metadata": {},
     "output_type": "execute_result"
    }
   ],
   "source": [
    "url = 'https://www.indeed.com' + soup.find('a', {'aria-label': 'Next'}).get('href')\n",
    "url"
   ]
  },
  {
   "cell_type": "code",
   "execution_count": 20,
   "metadata": {},
   "outputs": [],
   "source": [
    "url = 'https://www.indeed.com' + soup.find('a', {'aria-label': 'Next'}).get('href')\n",
    "while True:\n",
    "    try:\n",
    "        url = 'https://www.indeed.com' + soup.find('a', {'aria-label': 'Next'}).get('href')\n",
    "    except AttributeError:\n",
    "        break\n",
    "\n",
    "    response = requests.get(url)\n",
    "    soup = BeautifulSoup(response.text, 'html.parser')\n",
    "    cards = soup.find_all('div', 'slider_container')\n",
    "\n",
    "    for card in cards:\n",
    "        record = get_record(card)\n",
    "        records.append(record)"
   ]
  },
  {
   "cell_type": "code",
   "execution_count": 21,
   "metadata": {},
   "outputs": [],
   "source": [
    "#combining codes，run main(position, location)，then saved file could be found in the local file\n",
    "def get_url(position,location):\n",
    "    \"\"\"Generate url from position and location\"\"\"\n",
    "    template = 'https://www.indeed.com/jobs?q={}&l={}'\n",
    "    position = position.replace(' ', '+')\n",
    "    location = location.replace(' ', '+')\n",
    "    url = template.format(position, location)\n",
    "    return url\n",
    "\n",
    "def get_record(card):\n",
    "    job_title = card.find('h2', 'jobTitle').text.strip()\n",
    "    if 'new' in job_title:\n",
    "        job_title = job_title[3:]\n",
    "    company = card.find('span', 'companyName').text.strip()\n",
    "    #job_url = 'https://www.indeed.com' + card.find_parent('a').get('href')\n",
    "    job_location = card.find('div', 'companyLocation').text.strip()\n",
    "    post_date = card.find('span', 'date').text.strip()\n",
    "    today = datetime.today().strftime('%Y-%m-%d')\n",
    "    summary = card.find('div', 'job-snippet').text.strip().replace('\\n', ' ')\n",
    "    if card.find('div',{'class':'metadata salary-snippet-container'}):\n",
    "        salary = card.find('div',{'class':'metadata salary-snippet-container'}).get_text()\n",
    "    elif card.find('class', 'metadata estimated-salary-container'):\n",
    "        salary = card.find('class', 'metadata estimated-salary-container')\n",
    "    else:\n",
    "        salary = 'Not Available'\n",
    "    record = (job_title, company, job_location, post_date, today, summary, salary)\n",
    "    return record \n",
    "\n",
    "def main(position, location):\n",
    "    \"\"\"Run the main program routine\"\"\"\n",
    "    records = []\n",
    "    url = get_url(position, location)\n",
    "    \n",
    "    while True:\n",
    "        response = requests.get(url)\n",
    "        soup = BeautifulSoup(response.text, 'html.parser')\n",
    "        cards = soup.find_all('div','slider_container')\n",
    "        for card in cards:\n",
    "            record = get_record(card)\n",
    "            records.append(record)\n",
    "        try:\n",
    "            url = 'https://www.indeed.com' + soup.find('a', {'aria-label': 'Next'}).get('href')\n",
    "        except AttributeError:\n",
    "            break\n",
    "        \n",
    "    # Save file\n",
    "    with open('Todayresults.csv', 'w', newline='', encoding='utf-8') as f:\n",
    "        writer = csv.writer(f)\n",
    "        writer.writerow(['JobTitle', 'Company', 'Location', 'PostDate', 'ExtractDate', 'Summary', 'Salary'])\n",
    "        writer.writerows(records)\n",
    "\n"
   ]
  },
  {
   "cell_type": "code",
   "execution_count": null,
   "metadata": {},
   "outputs": [],
   "source": []
  },
  {
   "cell_type": "code",
   "execution_count": 22,
   "metadata": {},
   "outputs": [],
   "source": [
    "\n",
    "main('business analyst','United States')"
   ]
  },
  {
   "cell_type": "code",
   "execution_count": null,
   "metadata": {},
   "outputs": [],
   "source": []
  }
 ],
 "metadata": {
  "kernelspec": {
   "display_name": "Python 3",
   "language": "python",
   "name": "python3"
  },
  "language_info": {
   "codemirror_mode": {
    "name": "ipython",
    "version": 3
   },
   "file_extension": ".py",
   "mimetype": "text/x-python",
   "name": "python",
   "nbconvert_exporter": "python",
   "pygments_lexer": "ipython3",
   "version": "3.8.5"
  }
 },
 "nbformat": 4,
 "nbformat_minor": 4
}
